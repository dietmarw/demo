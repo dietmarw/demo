{
 "metadata": {
  "kernelspec": {
   "codemirror_mode": {
    "name": "ipython",
    "version": 2
   },
   "display_name": "IPython (Python 2)",
   "language": "python",
   "name": "python2"
  },
  "name": "",
  "signature": "sha256:c928a9434853e38aa825d19cfac2e5ae4f6ea36f31a7d522ac47647030be2008"
 },
 "nbformat": 3,
 "nbformat_minor": 0,
 "worksheets": [
  {
   "cells": [
    {
     "cell_type": "markdown",
     "metadata": {},
     "source": [
      "$$ A = \\frac{B}{C} $$"
     ]
    }
   ],
   "metadata": {}
  }
 ]
}